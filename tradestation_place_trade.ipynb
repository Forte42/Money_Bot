{
 "cells": [
  {
   "cell_type": "code",
   "execution_count": 1,
   "metadata": {},
   "outputs": [
    {
     "name": "stdout",
     "output_type": "stream",
     "text": [
      "Trade placement failed with error: {\"Message\":\"Unauthorized.\",\"StatusCode\":401,\"TraceID\":\"f53af7ba-8147-4139-a3be-e7fbc573b27a\"}\n"
     ]
    }
   ],
   "source": [
    "import requests\n",
    "import json\n",
    "\n",
    "# Define endpoint URL\n",
    "endpoint = \"https://api.tradestation.com/v2/accounts/trades\"\n",
    "\n",
    "# Define API key\n",
    "api_key = \"your_api_key\"\n",
    "\n",
    "# Define headers\n",
    "headers = {\n",
    "    \"Content-Type\": \"application/json\",\n",
    "    \"ApiKey\": api_key\n",
    "}\n",
    "\n",
    "# Define trade data\n",
    "trade_data = {\n",
    "    \"OrderAction\": \"Buy\",\n",
    "    \"OrderType\": \"Market\",\n",
    "    \"TotalQuantity\": 1,\n",
    "    \"Symbol\": \"AAPL\"\n",
    "}\n",
    "\n",
    "# Place the trade\n",
    "response = requests.post(endpoint, headers=headers, data=json.dumps(trade_data))\n",
    "\n",
    "# Check if the trade was successful\n",
    "if response.status_code == 201:\n",
    "    print(\"Trade placed successfully!\")\n",
    "else:\n",
    "    print(\"Trade placement failed with error:\", response.text)"
   ]
  },
  {
   "cell_type": "code",
   "execution_count": 2,
   "metadata": {},
   "outputs": [
    {
     "name": "stdout",
     "output_type": "stream",
     "text": [
      "Order placement failed with error: {\"Message\":\"Unauthorized.\",\"StatusCode\":401,\"TraceID\":\"7cf33397-e43c-4c89-ab7b-527d39de2e7a\"}\n"
     ]
    }
   ],
   "source": [
    "# Placing a Stop Limit Order:\n",
    "\n",
    "# Define order data # EXAMPLE\n",
    "order_data = {\n",
    "    \"OrderAction\": \"Buy\",\n",
    "    \"OrderType\": \"StopLimit\",\n",
    "    \"TotalQuantity\": 1,\n",
    "    \"Symbol\": \"AAPL\",\n",
    "    \"StopPrice\": 125.00,\n",
    "    \"LimitPrice\": 130.00\n",
    "}\n",
    "\n",
    "# Place the order\n",
    "response = requests.post(endpoint, headers=headers, data=json.dumps(order_data))\n",
    "\n",
    "# Check if the order was successful\n",
    "if response.status_code == 201:\n",
    "    print(\"Order placed successfully!\")\n",
    "else:\n",
    "    print(\"Order placement failed with error:\", response.text)"
   ]
  },
  {
   "cell_type": "code",
   "execution_count": null,
   "metadata": {},
   "outputs": [],
   "source": [
    "# Placing a Trailing Stop Order:\n",
    "\n",
    "# Define order data\n",
    "order_data = {\n",
    "    \"OrderAction\": \"Buy\",\n",
    "    \"OrderType\": \"TrailingStop\",\n",
    "    \"TotalQuantity\": 1,\n",
    "    \"Symbol\": \"AAPL\",\n",
    "    \"TrailAmount\": 0.50\n",
    "}\n",
    "\n",
    "# Place the order\n",
    "response = requests.post(endpoint, headers=headers, data=json.dumps(order_data))\n",
    "\n",
    "# Check if the order was successful\n",
    "if response.status_code == 201:\n",
    "    print(\"Order placed successfully!\")\n",
    "else:\n",
    "    print(\"Order placement failed with error:\", response.text)"
   ]
  }
 ],
 "metadata": {
  "kernelspec": {
   "display_name": "Python 3.9.12 ('base')",
   "language": "python",
   "name": "python3"
  },
  "language_info": {
   "codemirror_mode": {
    "name": "ipython",
    "version": 3
   },
   "file_extension": ".py",
   "mimetype": "text/x-python",
   "name": "python",
   "nbconvert_exporter": "python",
   "pygments_lexer": "ipython3",
   "version": "3.9.12"
  },
  "orig_nbformat": 4,
  "vscode": {
   "interpreter": {
    "hash": "cd6a3d92e0646251b3f080a53c874ea75bf000c06359f4b225ea678b56e3b37c"
   }
  }
 },
 "nbformat": 4,
 "nbformat_minor": 2
}
