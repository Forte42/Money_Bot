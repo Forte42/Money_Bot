{
 "cells": [
  {
   "cell_type": "code",
   "execution_count": 2,
   "metadata": {},
   "outputs": [
    {
     "name": "stdout",
     "output_type": "stream",
     "text": [
      "Request failed with error: <!DOCTYPE html PUBLIC \"-//W3C//DTD XHTML 1.0 Strict//EN\" \"http://www.w3.org/TR/xhtml1/DTD/xhtml1-strict.dtd\">\n",
      "<html xmlns=\"http://www.w3.org/1999/xhtml\">\n",
      "<head>\n",
      "<meta http-equiv=\"Content-Type\" content=\"text/html; charset=iso-8859-1\"/>\n",
      "<title>404 - File or directory not found.</title>\n",
      "<style type=\"text/css\">\n",
      "<!--\n",
      "body{margin:0;font-size:.7em;font-family:Verdana, Arial, Helvetica, sans-serif;background:#EEEEEE;}\n",
      "fieldset{padding:0 15px 10px 15px;} \n",
      "h1{font-size:2.4em;margin:0;color:#FFF;}\n",
      "h2{font-size:1.7em;margin:0;color:#CC0000;} \n",
      "h3{font-size:1.2em;margin:10px 0 0 0;color:#000000;} \n",
      "#header{width:96%;margin:0 0 0 0;padding:6px 2% 6px 2%;font-family:\"trebuchet MS\", Verdana, sans-serif;color:#FFF;\n",
      "background-color:#555555;}\n",
      "#content{margin:0 0 0 2%;position:relative;}\n",
      ".content-container{background:#FFF;width:96%;margin-top:8px;padding:10px;position:relative;}\n",
      "-->\n",
      "</style>\n",
      "</head>\n",
      "<body>\n",
      "<div id=\"header\"><h1>Server Error</h1></div>\n",
      "<div id=\"content\">\n",
      " <div class=\"content-container\"><fieldset>\n",
      "  <h2>404 - File or directory not found.</h2>\n",
      "  <h3>The resource you are looking for might have been removed, had its name changed, or is temporarily unavailable.</h3>\n",
      " </fieldset></div>\n",
      "</div>\n",
      "</body>\n",
      "</html>\n",
      "\n"
     ]
    }
   ],
   "source": [
    "import requests\n",
    "import json\n",
    "\n",
    "# Define endpoint URL\n",
    "endpoint = \"https://api.tradestation.com/v2/marketdata/quotes\"\n",
    "\n",
    "# Define API key\n",
    "api_key = \"your_api_key\"\n",
    "\n",
    "# Define headers\n",
    "headers = {\n",
    "    \"Content-Type\": \"application/json\",\n",
    "    \"ApiKey\": api_key\n",
    "}\n",
    "\n",
    "# Define the stock symbol\n",
    "symbol = \"AAPL\"\n",
    "\n",
    "# Define the query parameters\n",
    "params = {\n",
    "    \"symbol\": symbol\n",
    "}\n",
    "\n",
    "# Get the stock data\n",
    "response = requests.get(endpoint, headers=headers, params=params)\n",
    "\n",
    "# Check if the request was successful\n",
    "if response.status_code == 200:\n",
    "    stock_data = json.loads(response.text)\n",
    "    print(\"Last Price:\", stock_data[0][\"LastPrice\"])\n",
    "    print(\"Bid Price:\", stock_data[0][\"BidPrice\"])\n",
    "    print(\"Ask Price:\", stock_data[0][\"AskPrice\"])\n",
    "else:\n",
    "    print(\"Request failed with error:\", response.text)"
   ]
  },
  {
   "cell_type": "code",
   "execution_count": null,
   "metadata": {},
   "outputs": [],
   "source": []
  }
 ],
 "metadata": {
  "kernelspec": {
   "display_name": "Python 3.9.12 ('base')",
   "language": "python",
   "name": "python3"
  },
  "language_info": {
   "codemirror_mode": {
    "name": "ipython",
    "version": 3
   },
   "file_extension": ".py",
   "mimetype": "text/x-python",
   "name": "python",
   "nbconvert_exporter": "python",
   "pygments_lexer": "ipython3",
   "version": "3.9.12"
  },
  "orig_nbformat": 4,
  "vscode": {
   "interpreter": {
    "hash": "cd6a3d92e0646251b3f080a53c874ea75bf000c06359f4b225ea678b56e3b37c"
   }
  }
 },
 "nbformat": 4,
 "nbformat_minor": 2
}
