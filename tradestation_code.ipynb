{
 "cells": [
  {
   "cell_type": "code",
   "execution_count": null,
   "metadata": {},
   "outputs": [],
   "source": [
    "import requests\n",
    "import json\n",
    "\n",
    "# Define endpoint URL\n",
    "endpoint = \"https://api.tradestation.com/v2/accounts/trades\"\n",
    "\n",
    "# Define API key\n",
    "api_key = \"your_api_key\"\n",
    "\n",
    "# Define headers\n",
    "headers = {\n",
    "    \"Content-Type\": \"application/json\",\n",
    "    \"ApiKey\": api_key\n",
    "}\n",
    "\n",
    "# Define trade data\n",
    "trade_data = {\n",
    "    \"OrderAction\": \"Buy\",\n",
    "    \"OrderType\": \"Market\",\n",
    "    \"TotalQuantity\": 1,\n",
    "    \"Symbol\": \"AAPL\"\n",
    "}\n",
    "\n",
    "# Place the trade\n",
    "response = requests.post(endpoint, headers=headers, data=json.dumps(trade_data))\n",
    "\n",
    "# Check if the trade was successful\n",
    "if response.status_code == 201:\n",
    "    print(\"Trade placed successfully!\")\n",
    "else:\n",
    "    print(\"Trade placement failed with error:\", response.text)"
   ]
  }
 ],
 "metadata": {
  "language_info": {
   "name": "python"
  },
  "orig_nbformat": 4
 },
 "nbformat": 4,
 "nbformat_minor": 2
}
